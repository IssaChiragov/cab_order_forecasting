{
 "cells": [
  {
   "cell_type": "markdown",
   "metadata": {
    "toc": true
   },
   "source": [
    "<h1>Содержание<span class=\"tocSkip\"></span></h1>\n",
    "<div class=\"toc\"><ul class=\"toc-item\"><li><span><a href=\"#Подготовка\" data-toc-modified-id=\"Подготовка-1\"><span class=\"toc-item-num\">1&nbsp;&nbsp;</span>Подготовка</a></span></li><li><span><a href=\"#Анализ\" data-toc-modified-id=\"Анализ-2\"><span class=\"toc-item-num\">2&nbsp;&nbsp;</span>Анализ</a></span></li><li><span><a href=\"#Обучение\" data-toc-modified-id=\"Обучение-3\"><span class=\"toc-item-num\">3&nbsp;&nbsp;</span>Обучение</a></span><ul class=\"toc-item\"><li><span><a href=\"#Linear-regression\" data-toc-modified-id=\"Linear-regression-3.1\"><span class=\"toc-item-num\">3.1&nbsp;&nbsp;</span>Linear regression</a></span></li><li><span><a href=\"#Dicision-tree-regressor\" data-toc-modified-id=\"Dicision-tree-regressor-3.2\"><span class=\"toc-item-num\">3.2&nbsp;&nbsp;</span>Dicision tree regressor</a></span></li><li><span><a href=\"#Random-forest-regressor\" data-toc-modified-id=\"Random-forest-regressor-3.3\"><span class=\"toc-item-num\">3.3&nbsp;&nbsp;</span>Random forest regressor</a></span></li><li><span><a href=\"#LGBM-Regressor-(Light-GBM)\" data-toc-modified-id=\"LGBM-Regressor-(Light-GBM)-3.4\"><span class=\"toc-item-num\">3.4&nbsp;&nbsp;</span>LGBM-Regressor (Light-GBM)</a></span></li><li><span><a href=\"#Catboostregressor\" data-toc-modified-id=\"Catboostregressor-3.5\"><span class=\"toc-item-num\">3.5&nbsp;&nbsp;</span>Catboostregressor</a></span></li><li><span><a href=\"#Результаты-обучения-и-выбор-модели\" data-toc-modified-id=\"Результаты-обучения-и-выбор-модели-3.6\"><span class=\"toc-item-num\">3.6&nbsp;&nbsp;</span>Результаты обучения и выбор модели</a></span></li></ul></li><li><span><a href=\"#Тестирование\" data-toc-modified-id=\"Тестирование-4\"><span class=\"toc-item-num\">4&nbsp;&nbsp;</span>Тестирование</a></span><ul class=\"toc-item\"><li><span><a href=\"#Обучение-лучшей-модели\" data-toc-modified-id=\"Обучение-лучшей-модели-4.1\"><span class=\"toc-item-num\">4.1&nbsp;&nbsp;</span>Обучение лучшей модели</a></span></li><li><span><a href=\"#Сравнение-с-константной-моделью:-DummyRegressor\" data-toc-modified-id=\"Сравнение-с-константной-моделью:-DummyRegressor-4.2\"><span class=\"toc-item-num\">4.2&nbsp;&nbsp;</span>Сравнение с константной моделью: DummyRegressor</a></span></li><li><span><a href=\"#Визуализация-результатов\" data-toc-modified-id=\"Визуализация-результатов-4.3\"><span class=\"toc-item-num\">4.3&nbsp;&nbsp;</span>Визуализация результатов</a></span></li></ul></li><li><span><a href=\"#Вывод\" data-toc-modified-id=\"Вывод-5\"><span class=\"toc-item-num\">5&nbsp;&nbsp;</span>Вывод</a></span></li><li><span><a href=\"#Чек-лист-проверки\" data-toc-modified-id=\"Чек-лист-проверки-6\"><span class=\"toc-item-num\">6&nbsp;&nbsp;</span>Чек-лист проверки</a></span></li></ul></div>"
   ]
  },
  {
   "cell_type": "markdown",
   "metadata": {},
   "source": [
    "#  Прогнозирование заказов такси"
   ]
  },
  {
   "cell_type": "markdown",
   "metadata": {},
   "source": [
    "Компания «Чётенькое такси» собрала исторические данные о заказах такси в аэропортах. Чтобы привлекать больше водителей в период пиковой нагрузки, нужно спрогнозировать количество заказов такси на следующий час. Постройте модель для такого предсказания.\n",
    "\n",
    "Значение метрики *RMSE* на тестовой выборке должно быть не больше 48.\n",
    "\n",
    "Вам нужно:\n",
    "\n",
    "1. Загрузить данные и выполнить их ресемплирование по одному часу.\n",
    "2. Проанализировать данные.\n",
    "3. Обучить разные модели с различными гиперпараметрами. Сделать тестовую выборку размером 10% от исходных данных.\n",
    "4. Проверить данные на тестовой выборке и сделать выводы.\n",
    "\n",
    "\n",
    "Данные лежат в файле `taxi.csv`. Количество заказов находится в столбце `num_orders` (от англ. *number of orders*, «число заказов»)."
   ]
  },
  {
   "cell_type": "markdown",
   "metadata": {},
   "source": [
    "**Описание проекта:** предоставлены исторические данные: число заказов такси в аэропорт и их даты. Чтобы привлекать больше водителей в период пиковой нагрузки, нужно спрогнозировать количество заказов такси на следующий час. Необходимо построить модель для такого предсказания. \n",
    "\n",
    "**Цель исследования:** Необходимо спрогнозировать количество заказов такси на следующий час.\n",
    "\n",
    "**Ход исследования:**\n",
    "\n",
    "- Изучение данных;\n",
    "- Подготовка данных;\n",
    "- Обучение моделей;\n",
    "- Анализ результатов.\n",
    "\n",
    "**Общий вывод:** резюмирование полуенных результатов, формулировка ключевых выводов и результатов."
   ]
  },
  {
   "cell_type": "code",
   "execution_count": 1,
   "metadata": {},
   "outputs": [],
   "source": [
    "!pip install scikit-learn==1.1.3 -q"
   ]
  },
  {
   "cell_type": "code",
   "execution_count": 2,
   "metadata": {},
   "outputs": [],
   "source": [
    "import time\n",
    "import warnings\n",
    "\n",
    "import matplotlib.pyplot as plt\n",
    "import numpy as np\n",
    "import pandas as pd\n",
    "\n",
    "from catboost import CatBoostRegressor\n",
    "from lightgbm import LGBMRegressor\n",
    "from sklearn.model_selection import train_test_split, GridSearchCV, RandomizedSearchCV, TimeSeriesSplit\n",
    "from sklearn.linear_model import LinearRegression\n",
    "from sklearn.tree import DecisionTreeRegressor\n",
    "from sklearn.ensemble import RandomForestRegressor\n",
    "from sklearn.dummy import DummyRegressor\n",
    "from sklearn.metrics import mean_squared_error\n",
    "from sklearn.compose import make_column_transformer\n",
    "from sklearn.preprocessing import OneHotEncoder, OrdinalEncoder, StandardScaler\n",
    "from sklearn.pipeline import make_pipeline\n",
    "from statsmodels.tsa.seasonal import seasonal_decompose\n",
    "\n",
    "# настройки\n",
    "warnings.filterwarnings(\"ignore\", category=FutureWarning)\n",
    "\n",
    "# Constants\n",
    "MAX_LAG = 7\n",
    "ROLLING_MEAN_SIZE = 3\n",
    "RANDOM_STATE = 12345"
   ]
  },
  {
   "cell_type": "markdown",
   "metadata": {},
   "source": [
    "## Подготовка"
   ]
  },
  {
   "cell_type": "code",
   "execution_count": 3,
   "metadata": {},
   "outputs": [],
   "source": [
    "df = pd.read_csv(\"/datasets/taxi.csv\", index_col=[0], parse_dates=[0])"
   ]
  },
  {
   "cell_type": "code",
   "execution_count": 4,
   "metadata": {
    "scrolled": true
   },
   "outputs": [
    {
     "name": "stdout",
     "output_type": "stream",
     "text": [
      "<class 'pandas.core.frame.DataFrame'>\n",
      "DatetimeIndex: 26496 entries, 2018-03-01 00:00:00 to 2018-08-31 23:50:00\n",
      "Data columns (total 1 columns):\n",
      " #   Column      Non-Null Count  Dtype\n",
      "---  ------      --------------  -----\n",
      " 0   num_orders  26496 non-null  int64\n",
      "dtypes: int64(1)\n",
      "memory usage: 414.0 KB\n"
     ]
    }
   ],
   "source": [
    "df.info()"
   ]
  },
  {
   "cell_type": "code",
   "execution_count": 5,
   "metadata": {},
   "outputs": [
    {
     "data": {
      "text/plain": [
       "True"
      ]
     },
     "execution_count": 5,
     "metadata": {},
     "output_type": "execute_result"
    }
   ],
   "source": [
    "df.index.is_monotonic_increasing"
   ]
  },
  {
   "cell_type": "markdown",
   "metadata": {},
   "source": [
    "Даты расположены в хронологическом порядке."
   ]
  },
  {
   "cell_type": "code",
   "execution_count": 6,
   "metadata": {
    "scrolled": true
   },
   "outputs": [
    {
     "data": {
      "text/html": [
       "<div>\n",
       "<style scoped>\n",
       "    .dataframe tbody tr th:only-of-type {\n",
       "        vertical-align: middle;\n",
       "    }\n",
       "\n",
       "    .dataframe tbody tr th {\n",
       "        vertical-align: top;\n",
       "    }\n",
       "\n",
       "    .dataframe thead th {\n",
       "        text-align: right;\n",
       "    }\n",
       "</style>\n",
       "<table border=\"1\" class=\"dataframe\">\n",
       "  <thead>\n",
       "    <tr style=\"text-align: right;\">\n",
       "      <th></th>\n",
       "      <th>num_orders</th>\n",
       "    </tr>\n",
       "    <tr>\n",
       "      <th>datetime</th>\n",
       "      <th></th>\n",
       "    </tr>\n",
       "  </thead>\n",
       "  <tbody>\n",
       "    <tr>\n",
       "      <th>2018-03-01 00:00:00</th>\n",
       "      <td>9</td>\n",
       "    </tr>\n",
       "    <tr>\n",
       "      <th>2018-03-01 00:10:00</th>\n",
       "      <td>14</td>\n",
       "    </tr>\n",
       "    <tr>\n",
       "      <th>2018-03-01 00:20:00</th>\n",
       "      <td>28</td>\n",
       "    </tr>\n",
       "    <tr>\n",
       "      <th>2018-03-01 00:30:00</th>\n",
       "      <td>20</td>\n",
       "    </tr>\n",
       "    <tr>\n",
       "      <th>2018-03-01 00:40:00</th>\n",
       "      <td>32</td>\n",
       "    </tr>\n",
       "  </tbody>\n",
       "</table>\n",
       "</div>"
      ],
      "text/plain": [
       "                     num_orders\n",
       "datetime                       \n",
       "2018-03-01 00:00:00           9\n",
       "2018-03-01 00:10:00          14\n",
       "2018-03-01 00:20:00          28\n",
       "2018-03-01 00:30:00          20\n",
       "2018-03-01 00:40:00          32"
      ]
     },
     "metadata": {},
     "output_type": "display_data"
    },
    {
     "data": {
      "text/html": [
       "<div>\n",
       "<style scoped>\n",
       "    .dataframe tbody tr th:only-of-type {\n",
       "        vertical-align: middle;\n",
       "    }\n",
       "\n",
       "    .dataframe tbody tr th {\n",
       "        vertical-align: top;\n",
       "    }\n",
       "\n",
       "    .dataframe thead th {\n",
       "        text-align: right;\n",
       "    }\n",
       "</style>\n",
       "<table border=\"1\" class=\"dataframe\">\n",
       "  <thead>\n",
       "    <tr style=\"text-align: right;\">\n",
       "      <th></th>\n",
       "      <th>num_orders</th>\n",
       "    </tr>\n",
       "    <tr>\n",
       "      <th>datetime</th>\n",
       "      <th></th>\n",
       "    </tr>\n",
       "  </thead>\n",
       "  <tbody>\n",
       "    <tr>\n",
       "      <th>2018-08-31 23:10:00</th>\n",
       "      <td>32</td>\n",
       "    </tr>\n",
       "    <tr>\n",
       "      <th>2018-08-31 23:20:00</th>\n",
       "      <td>24</td>\n",
       "    </tr>\n",
       "    <tr>\n",
       "      <th>2018-08-31 23:30:00</th>\n",
       "      <td>27</td>\n",
       "    </tr>\n",
       "    <tr>\n",
       "      <th>2018-08-31 23:40:00</th>\n",
       "      <td>39</td>\n",
       "    </tr>\n",
       "    <tr>\n",
       "      <th>2018-08-31 23:50:00</th>\n",
       "      <td>53</td>\n",
       "    </tr>\n",
       "  </tbody>\n",
       "</table>\n",
       "</div>"
      ],
      "text/plain": [
       "                     num_orders\n",
       "datetime                       \n",
       "2018-08-31 23:10:00          32\n",
       "2018-08-31 23:20:00          24\n",
       "2018-08-31 23:30:00          27\n",
       "2018-08-31 23:40:00          39\n",
       "2018-08-31 23:50:00          53"
      ]
     },
     "metadata": {},
     "output_type": "display_data"
    }
   ],
   "source": [
    "display(df.head())\n",
    "display(df.tail())"
   ]
  },
  {
   "cell_type": "code",
   "execution_count": 7,
   "metadata": {},
   "outputs": [
    {
     "data": {
      "text/plain": [
       "26415"
      ]
     },
     "execution_count": 7,
     "metadata": {},
     "output_type": "execute_result"
    }
   ],
   "source": [
    "df.duplicated().sum()"
   ]
  },
  {
   "cell_type": "code",
   "execution_count": 8,
   "metadata": {},
   "outputs": [
    {
     "data": {
      "text/plain": [
       "num_orders    0\n",
       "dtype: int64"
      ]
     },
     "execution_count": 8,
     "metadata": {},
     "output_type": "execute_result"
    }
   ],
   "source": [
    "df.isna().sum()"
   ]
  },
  {
   "cell_type": "markdown",
   "metadata": {},
   "source": [
    "**Выводы к разделу:**\n",
    "\n",
    "- Пропусков нет, тип данных соответсвующий;\n",
    "- При проверке данных на дубликаты выявлено, что практически все данные идентифицируются как дубликаты. Это явно не так и, скорее всего, данный факт вызван спецификой сбора данных; \n",
    "- Данные представленны за период с 1 марта 2018 года по 31 августа 2018 года с итервалом - 10 мин."
   ]
  },
  {
   "cell_type": "markdown",
   "metadata": {},
   "source": [
    "## Анализ"
   ]
  },
  {
   "cell_type": "code",
   "execution_count": 9,
   "metadata": {},
   "outputs": [
    {
     "data": {
      "text/plain": [
       "count    26496.000000\n",
       "mean        14.070463\n",
       "std          9.211330\n",
       "min          0.000000\n",
       "25%          8.000000\n",
       "50%         13.000000\n",
       "75%         19.000000\n",
       "max        119.000000\n",
       "Name: num_orders, dtype: float64"
      ]
     },
     "execution_count": 9,
     "metadata": {},
     "output_type": "execute_result"
    }
   ],
   "source": [
    "df.num_orders.describe()"
   ]
  },
  {
   "cell_type": "markdown",
   "metadata": {},
   "source": [
    "Отрицательных значений нет.\n",
    "Минимальное количество заказов - 0\n",
    "Среднее количество заказов - 14\n",
    "максимальное количество заказов - 119"
   ]
  },
  {
   "cell_type": "code",
   "execution_count": 10,
   "metadata": {},
   "outputs": [
    {
     "data": {
      "image/png": "[encoded data removed]",
      "text/plain": [
       "<Figure size 1008x288 with 3 Axes>"
      ]
     },
     "metadata": {
      "needs_background": "light"
     },
     "output_type": "display_data"
    }
   ],
   "source": [
    "# Произведем декомпозицию данных и их анализ.\n",
    "df_res_1d = df.resample('1D').sum()\n",
    "\n",
    "decomposed = seasonal_decompose(df_res_1d)\n",
    "\n",
    "plt.figure(figsize=(14, 4))\n",
    "plt.subplot(131)\n",
    "decomposed.trend.plot(ax=plt.gca(), grid=True)\n",
    "plt.title('Trend')\n",
    "plt.subplot(132)\n",
    "decomposed.seasonal.plot(ax=plt.gca(), grid=True)\n",
    "plt.title('Seasonality')\n",
    "plt.subplot(133)\n",
    "decomposed.resid.plot(ax=plt.gca(), grid=True)\n",
    "plt.title('Residuals')\n",
    "\n",
    "plt.tight_layout()"
   ]
  },
  {
   "cell_type": "markdown",
   "metadata": {},
   "source": [
    "**Trend**\n",
    "\n",
    "График демонстрирует увеличение спроса на такси с марта по конец августа. Так в марте количество заказов такси равно примерно 700-800 в сутки, тогда как в августе количество заказов становится больше в 5 раз и равняется 3500-3700.\n",
    "\n",
    "**Seasonality**\n",
    "\n",
    "Сезонность на таком диапазоне данных сложно интерпретировать, поэтому рассмотрим ее на более коротком промежутке времени, например в рамках 1 месяца.\n",
    "\n",
    "**Residuals**\n",
    "\n",
    "Сильные колебания на графике остатков вероятно указывают на наличие пиковых значений."
   ]
  },
  {
   "cell_type": "code",
   "execution_count": 11,
   "metadata": {
    "scrolled": true
   },
   "outputs": [
    {
     "data": {
      "image/png": "[encoded data removed]",
      "text/plain": [
       "<Figure size 432x288 with 1 Axes>"
      ]
     },
     "metadata": {
      "needs_background": "light"
     },
     "output_type": "display_data"
    }
   ],
   "source": [
    "decomposed.seasonal['2018-03-01':'2018-04-01'].plot(ax=plt.gca(), grid=True)\n",
    "plt.title('Seasonality: 1 month')\n",
    "plt.show()"
   ]
  },
  {
   "cell_type": "markdown",
   "metadata": {},
   "source": [
    "Меньше всего такси в аэропорт заказывают по воскресеньям и вторникам, больше всего по понедельникам и пятницам."
   ]
  },
  {
   "cell_type": "markdown",
   "metadata": {},
   "source": [
    "Без сомнения время суток должно оказывать влияние на активность заказов такси. Для того чтобы в этом удостовериться, рассмотрим понедельники в марте, например 5, 23 и 19 число."
   ]
  },
  {
   "cell_type": "code",
   "execution_count": 12,
   "metadata": {},
   "outputs": [
    {
     "data": {
      "image/png": "[encoded data removed]",
      "text/plain": [
       "<Figure size 1152x216 with 3 Axes>"
      ]
     },
     "metadata": {
      "needs_background": "light"
     },
     "output_type": "display_data"
    }
   ],
   "source": [
    "# Влияние времени суток на количество заказов.\n",
    "df_res_1h = df.resample('1H').sum()\n",
    "\n",
    "plt.figure(figsize=(16, 3))\n",
    "plt.subplot(131)\n",
    "df_res_1h['2018-03-05 00:00':'2018-03-06 00:00'].plot(ax=plt.gca(), grid=True)\n",
    "plt.title('Monday: 5 march')\n",
    "plt.subplot(132)\n",
    "df_res_1h['2018-03-12 00:00':'2018-03-13 00:00'].plot(ax=plt.gca(), grid=True)\n",
    "plt.title('Monday: 12 march')\n",
    "plt.subplot(133)\n",
    "df_res_1h['2018-03-19 00:00':'2018-03-20 00:00'].plot(ax=plt.gca(), grid=True)\n",
    "plt.title('Monday: 19 march')\n",
    "plt.tight_layout()"
   ]
  },
  {
   "cell_type": "markdown",
   "metadata": {},
   "source": [
    "Как и предполагалось, в течении суток количество заказов варьируется. Графики выглядят похожими и указывают на то, что по понедельникам пик заказав приходится на 2 часа ночи. Возможно эта картина характерна только для марта, посмотрим на понедельники в августе."
   ]
  },
  {
   "cell_type": "code",
   "execution_count": 13,
   "metadata": {},
   "outputs": [
    {
     "data": {
      "image/png": "[encoded data removed]",
      "text/plain": [
       "<Figure size 1152x216 with 3 Axes>"
      ]
     },
     "metadata": {
      "needs_background": "light"
     },
     "output_type": "display_data"
    }
   ],
   "source": [
    "plt.figure(figsize=(16, 3))\n",
    "plt.subplot(131)\n",
    "df_res_1h['2018-08-06 00:00':'2018-08-07 00:00'].plot(ax=plt.gca(), grid=True)\n",
    "plt.title('Monday: 8 august')\n",
    "plt.subplot(132)\n",
    "df_res_1h['2018-08-13 00:00':'2018-08-14 00:00'].plot(ax=plt.gca(), grid=True)\n",
    "plt.title('Monday: 13 august')\n",
    "plt.subplot(133)\n",
    "df_res_1h['2018-08-20 00:00':'2018-08-21 00:00'].plot(ax=plt.gca(), grid=True)\n",
    "plt.title('Monday: 20 august')\n",
    "plt.tight_layout()"
   ]
  },
  {
   "cell_type": "markdown",
   "metadata": {},
   "source": [
    "На первом графике пик приходится на более раннее время - 00:00, однако, в понедельники 13 и 20 числа - пик вызовов такси приходится, как и в марте, на 2 часа ночи."
   ]
  },
  {
   "cell_type": "markdown",
   "metadata": {},
   "source": [
    "**Выводы к разделу:**\n",
    "\n",
    "- Минимальное количество заказов - 0. Среднее количество заказов - 14. максимальное количество заказов - 119;\n",
    "\n",
    "- Количество заказов такси в аэропорт зависит от времени года, дня недели и времени суток, поэтому их следует выделить в отдельные признаки."
   ]
  },
  {
   "cell_type": "markdown",
   "metadata": {},
   "source": [
    "## Обучение"
   ]
  },
  {
   "cell_type": "markdown",
   "metadata": {},
   "source": [
    "Сгруппируем данные по часам, т. к. это наименьшая единица времени от которой зависит количество заказов. Выделим в отдельные признаки месяцы, дни недели и часы и отнесем их к категориальному типу."
   ]
  },
  {
   "cell_type": "code",
   "execution_count": 14,
   "metadata": {},
   "outputs": [],
   "source": [
    "# Месяц, день недели и часы.\n",
    "df = df.resample('1H').sum()\n",
    "\n",
    "df['month'] = df.index.month\n",
    "df['dayofweek'] = df.index.dayofweek\n",
    "df['hour'] =df.index.hour\n",
    "\n",
    "df['month'] = df['month'].astype('category')\n",
    "df['dayofweek'] = df['dayofweek'].astype('category')\n",
    "df['hour'] = df['hour'].astype('category')"
   ]
  },
  {
   "cell_type": "code",
   "execution_count": 15,
   "metadata": {},
   "outputs": [],
   "source": [
    "# Значения за предыдущее время (LAG).\n",
    "for lag in range(1, MAX_LAG+1):\n",
    "    df['lag_{}'.format(lag)] = df['num_orders'].shift(lag) \n",
    "df.dropna(inplace=True)"
   ]
  },
  {
   "cell_type": "markdown",
   "metadata": {},
   "source": [
    "В качестве еще одного признака возьмем среднее значение за 3 часа."
   ]
  },
  {
   "cell_type": "code",
   "execution_count": 16,
   "metadata": {},
   "outputs": [],
   "source": [
    "# Скользящее среднее.\n",
    "df['rolling_mean'] = df['num_orders'].shift().rolling(ROLLING_MEAN_SIZE).mean()\n",
    "df.dropna(inplace=True)"
   ]
  },
  {
   "cell_type": "code",
   "execution_count": 17,
   "metadata": {
    "scrolled": true
   },
   "outputs": [
    {
     "data": {
      "text/html": [
       "<div>\n",
       "<style scoped>\n",
       "    .dataframe tbody tr th:only-of-type {\n",
       "        vertical-align: middle;\n",
       "    }\n",
       "\n",
       "    .dataframe tbody tr th {\n",
       "        vertical-align: top;\n",
       "    }\n",
       "\n",
       "    .dataframe thead th {\n",
       "        text-align: right;\n",
       "    }\n",
       "</style>\n",
       "<table border=\"1\" class=\"dataframe\">\n",
       "  <thead>\n",
       "    <tr style=\"text-align: right;\">\n",
       "      <th></th>\n",
       "      <th>num_orders</th>\n",
       "      <th>month</th>\n",
       "      <th>dayofweek</th>\n",
       "      <th>hour</th>\n",
       "      <th>lag_1</th>\n",
       "      <th>lag_2</th>\n",
       "      <th>lag_3</th>\n",
       "      <th>lag_4</th>\n",
       "      <th>lag_5</th>\n",
       "      <th>lag_6</th>\n",
       "      <th>lag_7</th>\n",
       "      <th>rolling_mean</th>\n",
       "    </tr>\n",
       "    <tr>\n",
       "      <th>datetime</th>\n",
       "      <th></th>\n",
       "      <th></th>\n",
       "      <th></th>\n",
       "      <th></th>\n",
       "      <th></th>\n",
       "      <th></th>\n",
       "      <th></th>\n",
       "      <th></th>\n",
       "      <th></th>\n",
       "      <th></th>\n",
       "      <th></th>\n",
       "      <th></th>\n",
       "    </tr>\n",
       "  </thead>\n",
       "  <tbody>\n",
       "    <tr>\n",
       "      <th>2018-03-01 10:00:00</th>\n",
       "      <td>64</td>\n",
       "      <td>3</td>\n",
       "      <td>3</td>\n",
       "      <td>10</td>\n",
       "      <td>69.0</td>\n",
       "      <td>34.0</td>\n",
       "      <td>15.0</td>\n",
       "      <td>12.0</td>\n",
       "      <td>6.0</td>\n",
       "      <td>43.0</td>\n",
       "      <td>66.0</td>\n",
       "      <td>39.333333</td>\n",
       "    </tr>\n",
       "    <tr>\n",
       "      <th>2018-03-01 11:00:00</th>\n",
       "      <td>96</td>\n",
       "      <td>3</td>\n",
       "      <td>3</td>\n",
       "      <td>11</td>\n",
       "      <td>64.0</td>\n",
       "      <td>69.0</td>\n",
       "      <td>34.0</td>\n",
       "      <td>15.0</td>\n",
       "      <td>12.0</td>\n",
       "      <td>6.0</td>\n",
       "      <td>43.0</td>\n",
       "      <td>55.666667</td>\n",
       "    </tr>\n",
       "    <tr>\n",
       "      <th>2018-03-01 12:00:00</th>\n",
       "      <td>30</td>\n",
       "      <td>3</td>\n",
       "      <td>3</td>\n",
       "      <td>12</td>\n",
       "      <td>96.0</td>\n",
       "      <td>64.0</td>\n",
       "      <td>69.0</td>\n",
       "      <td>34.0</td>\n",
       "      <td>15.0</td>\n",
       "      <td>12.0</td>\n",
       "      <td>6.0</td>\n",
       "      <td>76.333333</td>\n",
       "    </tr>\n",
       "    <tr>\n",
       "      <th>2018-03-01 13:00:00</th>\n",
       "      <td>32</td>\n",
       "      <td>3</td>\n",
       "      <td>3</td>\n",
       "      <td>13</td>\n",
       "      <td>30.0</td>\n",
       "      <td>96.0</td>\n",
       "      <td>64.0</td>\n",
       "      <td>69.0</td>\n",
       "      <td>34.0</td>\n",
       "      <td>15.0</td>\n",
       "      <td>12.0</td>\n",
       "      <td>63.333333</td>\n",
       "    </tr>\n",
       "    <tr>\n",
       "      <th>2018-03-01 14:00:00</th>\n",
       "      <td>48</td>\n",
       "      <td>3</td>\n",
       "      <td>3</td>\n",
       "      <td>14</td>\n",
       "      <td>32.0</td>\n",
       "      <td>30.0</td>\n",
       "      <td>96.0</td>\n",
       "      <td>64.0</td>\n",
       "      <td>69.0</td>\n",
       "      <td>34.0</td>\n",
       "      <td>15.0</td>\n",
       "      <td>52.666667</td>\n",
       "    </tr>\n",
       "  </tbody>\n",
       "</table>\n",
       "</div>"
      ],
      "text/plain": [
       "                     num_orders month dayofweek hour  lag_1  lag_2  lag_3  \\\n",
       "datetime                                                                    \n",
       "2018-03-01 10:00:00          64     3         3   10   69.0   34.0   15.0   \n",
       "2018-03-01 11:00:00          96     3         3   11   64.0   69.0   34.0   \n",
       "2018-03-01 12:00:00          30     3         3   12   96.0   64.0   69.0   \n",
       "2018-03-01 13:00:00          32     3         3   13   30.0   96.0   64.0   \n",
       "2018-03-01 14:00:00          48     3         3   14   32.0   30.0   96.0   \n",
       "\n",
       "                     lag_4  lag_5  lag_6  lag_7  rolling_mean  \n",
       "datetime                                                       \n",
       "2018-03-01 10:00:00   12.0    6.0   43.0   66.0     39.333333  \n",
       "2018-03-01 11:00:00   15.0   12.0    6.0   43.0     55.666667  \n",
       "2018-03-01 12:00:00   34.0   15.0   12.0    6.0     76.333333  \n",
       "2018-03-01 13:00:00   69.0   34.0   15.0   12.0     63.333333  \n",
       "2018-03-01 14:00:00   64.0   69.0   34.0   15.0     52.666667  "
      ]
     },
     "execution_count": 17,
     "metadata": {},
     "output_type": "execute_result"
    }
   ],
   "source": [
    "df.head()"
   ]
  },
  {
   "cell_type": "code",
   "execution_count": 18,
   "metadata": {},
   "outputs": [],
   "source": [
    "# Разделим на тренировочную и тестовую выборки.\n",
    "features = df.drop('num_orders', axis=1)\n",
    "target = df['num_orders']\n",
    "X_tr, X_test, y_tr, y_test = train_test_split(features, target, test_size=0.1, shuffle=False)"
   ]
  },
  {
   "cell_type": "markdown",
   "metadata": {},
   "source": [
    "Подберем параметры , отвечающие за деление данных на кросс-валидации."
   ]
  },
  {
   "cell_type": "code",
   "execution_count": 19,
   "metadata": {},
   "outputs": [
    {
     "name": "stdout",
     "output_type": "stream",
     "text": [
      "Fold 0:\n",
      "  Train: len = 965, index [0:964]\n",
      "  Test:  len = 1000, index [965:1964]\n",
      "Fold 1:\n",
      "  Train: len = 1000, index [965:1964]\n",
      "  Test:  len = 1000, index [1965:2964]\n",
      "Fold 2:\n",
      "  Train: len = 1000, index [1965:2964]\n",
      "  Test:  len = 1000, index [2965:3964]\n"
     ]
    }
   ],
   "source": [
    "tscv =  TimeSeriesSplit(gap=0, max_train_size=1000, n_splits=3, test_size=1000)\n",
    "for i, (train_index, test_index) in enumerate(tscv.split(X_tr)):\n",
    "    print(f\"Fold {i}:\")\n",
    "    print(f\"  Train: len = {len(train_index)}, index [{train_index[0]}:{train_index[-1]}]\")\n",
    "    print(f\"  Test:  len = {len(test_index)}, index [{test_index[-0]}:{test_index[-1]}]\")"
   ]
  },
  {
   "cell_type": "code",
   "execution_count": 20,
   "metadata": {},
   "outputs": [],
   "source": [
    "# Создадим функцию для обучения моделей.\n",
    "def best_model(model, params, X, y, randomized_search=False, cv=tscv, vb=False):\n",
    "    \"\"\"This method return best model validated by GridSearchCV() and also return learning time (min)\"\"\"\n",
    "    start_time = time.time()\n",
    "    if randomized_search:\n",
    "        grid = RandomizedSearchCV(model,\n",
    "                                  params, \n",
    "                                  scoring='neg_root_mean_squared_error',\n",
    "                                  cv=cv,\n",
    "                                  n_jobs=-1,\n",
    "                                  verbose=vb,\n",
    "                                  random_state=RANDOM_STATE)\n",
    "    else:\n",
    "        grid = GridSearchCV(model,\n",
    "                    params, \n",
    "                    scoring='neg_root_mean_squared_error',\n",
    "                    cv=cv,\n",
    "                    n_jobs=-1,\n",
    "                    verbose=vb)\n",
    "    grid.fit(X, y)\n",
    "    best_score = np.round(grid.best_score_ * (-1), 0)\n",
    "    learninig_time = np.round((time.time() - start_time) / 60, 2) \n",
    "    return grid, best_score, learninig_time"
   ]
  },
  {
   "cell_type": "markdown",
   "metadata": {},
   "source": [
    "Преобразуем признаки."
   ]
  },
  {
   "cell_type": "code",
   "execution_count": 21,
   "metadata": {},
   "outputs": [],
   "source": [
    "cat_feat = X_tr.select_dtypes(include='category').columns.to_list()\n",
    "num_feat = X_tr.select_dtypes(exclude='category').columns.to_list()\n",
    "\n",
    "ohe_col_transf = make_column_transformer( \n",
    "    (OneHotEncoder(drop='first', handle_unknown='ignore'), cat_feat),\n",
    "    (StandardScaler(), num_feat), \n",
    "    remainder='passthrough',\n",
    "    verbose_feature_names_out=False)\n",
    "\n",
    "ord_col_transf = make_column_transformer( \n",
    "    (OrdinalEncoder(handle_unknown='use_encoded_value', unknown_value=-1), cat_feat),\n",
    "    (StandardScaler(), num_feat),\n",
    "    remainder='passthrough')"
   ]
  },
  {
   "cell_type": "markdown",
   "metadata": {},
   "source": [
    "### Linear regression"
   ]
  },
  {
   "cell_type": "code",
   "execution_count": 22,
   "metadata": {},
   "outputs": [
    {
     "name": "stdout",
     "output_type": "stream",
     "text": [
      "Linear regression RMSE: 34.0\n",
      "Learning time: 0.0 min\n"
     ]
    },
    {
     "name": "stderr",
     "output_type": "stream",
     "text": [
      "/opt/conda/lib/python3.9/site-packages/sklearn/preprocessing/_encoders.py:188: UserWarning: Found unknown categories in columns [0] during transform. These unknown categories will be encoded as all zeros\n",
      "  warnings.warn(\n",
      "/opt/conda/lib/python3.9/site-packages/sklearn/preprocessing/_encoders.py:188: UserWarning: Found unknown categories in columns [0] during transform. These unknown categories will be encoded as all zeros\n",
      "  warnings.warn(\n",
      "/opt/conda/lib/python3.9/site-packages/sklearn/preprocessing/_encoders.py:188: UserWarning: Found unknown categories in columns [0] during transform. These unknown categories will be encoded as all zeros\n",
      "  warnings.warn(\n"
     ]
    }
   ],
   "source": [
    "params = {}\n",
    "model = LinearRegression(fit_intercept=False)\n",
    "pipeline = make_pipeline(ohe_col_transf, model)\n",
    "model_lr, lr_rmse, lr_time = best_model(pipeline, params, X_tr, y_tr)\n",
    "print('Linear regression RMSE:', lr_rmse)\n",
    "print('Learning time:', lr_time, 'min')"
   ]
  },
  {
   "cell_type": "markdown",
   "metadata": {},
   "source": [
    "### Dicision tree regressor"
   ]
  },
  {
   "cell_type": "code",
   "execution_count": 23,
   "metadata": {},
   "outputs": [
    {
     "name": "stdout",
     "output_type": "stream",
     "text": [
      "Dicision tree regressor RMSE: 31.0\n",
      "Learn process time: 0.12 (min)\n"
     ]
    }
   ],
   "source": [
    "params = {'decisiontreeregressor__max_depth' : [None]+[i for i in range(1, 9)],\n",
    "          'decisiontreeregressor__min_samples_leaf' : [1, 2, 3, 4, 5],\n",
    "          'decisiontreeregressor__min_samples_split' : [2, 3, 4, 5]}\n",
    "model = DecisionTreeRegressor(random_state=RANDOM_STATE)\n",
    "pipeline = make_pipeline(ord_col_transf, model)\n",
    "model_dtr, dtr_rmse, dtr_time = best_model(pipeline, params, X_tr, y_tr)\n",
    "print('Dicision tree regressor RMSE:', dtr_rmse)\n",
    "print('Learn process time:', dtr_time, '(min)')"
   ]
  },
  {
   "cell_type": "markdown",
   "metadata": {},
   "source": [
    "### Random forest regressor"
   ]
  },
  {
   "cell_type": "code",
   "execution_count": 24,
   "metadata": {},
   "outputs": [
    {
     "name": "stdout",
     "output_type": "stream",
     "text": [
      "Random forest regressor RMSE: 27.0\n",
      "Learn process time: 0.78 (min)\n"
     ]
    }
   ],
   "source": [
    "params = {'randomforestregressor__max_depth' : [None]+[i for i in range(2, 8)],\n",
    "          'randomforestregressor__n_estimators' : [300, 500, 1000],\n",
    "          'randomforestregressor__min_samples_leaf' : [1, 3, 5],\n",
    "          'randomforestregressor__min_samples_split' : [2, 3, 4]}\n",
    "model = RandomForestRegressor(random_state=RANDOM_STATE) \n",
    "pipeline = make_pipeline(ord_col_transf, model)\n",
    "model_rf, rf_rmse, rf_time = best_model(pipeline, params, X_tr, y_tr, randomized_search=True)\n",
    "print('Random forest regressor RMSE:', rf_rmse)\n",
    "print('Learn process time:', rf_time, '(min)')"
   ]
  },
  {
   "cell_type": "markdown",
   "metadata": {},
   "source": [
    "### LGBM-Regressor (Light-GBM)"
   ]
  },
  {
   "cell_type": "code",
   "execution_count": 25,
   "metadata": {},
   "outputs": [
    {
     "name": "stdout",
     "output_type": "stream",
     "text": [
      "LGBM-Regressor RMSE: 27.0\n",
      "Learn process time: 9.2 (min)\n"
     ]
    }
   ],
   "source": [
    "params = {'num_leaves' : [2, 4, 7, 12],\n",
    "          'n_estimators': [1000, 3000],\n",
    "          'max_depth': [None]+[i for i in range(2, 9)]}\n",
    "model = LGBMRegressor(random_state=RANDOM_STATE)\n",
    "model_lgbm, lgbd_rmse, lgbd_time = best_model(model, params, X_tr, y_tr)\n",
    "print('LGBM-Regressor RMSE:', lgbd_rmse)\n",
    "print('Learn process time:', lgbd_time, '(min)')"
   ]
  },
  {
   "cell_type": "markdown",
   "metadata": {},
   "source": [
    "### Catboostregressor"
   ]
  },
  {
   "cell_type": "code",
   "execution_count": 26,
   "metadata": {},
   "outputs": [
    {
     "name": "stdout",
     "output_type": "stream",
     "text": [
      "Catboostregressor RMSE: 26.0\n",
      "Learn process time: 0.25 (min)\n"
     ]
    }
   ],
   "source": [
    "params = {}\n",
    "model = CatBoostRegressor(cat_features=cat_feat, random_seed=RANDOM_STATE, verbose=False)\n",
    "model_cat, cat_rmse, cat_time = best_model(model, params, X_tr, y_tr)\n",
    "print('Catboostregressor RMSE:', cat_rmse)\n",
    "print('Learn process time:', cat_time, '(min)')"
   ]
  },
  {
   "cell_type": "markdown",
   "metadata": {},
   "source": [
    "### Результаты обучения и выбор модели"
   ]
  },
  {
   "cell_type": "code",
   "execution_count": 27,
   "metadata": {},
   "outputs": [
    {
     "data": {
      "text/html": [
       "<div>\n",
       "<style scoped>\n",
       "    .dataframe tbody tr th:only-of-type {\n",
       "        vertical-align: middle;\n",
       "    }\n",
       "\n",
       "    .dataframe tbody tr th {\n",
       "        vertical-align: top;\n",
       "    }\n",
       "\n",
       "    .dataframe thead th {\n",
       "        text-align: right;\n",
       "    }\n",
       "</style>\n",
       "<table border=\"1\" class=\"dataframe\">\n",
       "  <thead>\n",
       "    <tr style=\"text-align: right;\">\n",
       "      <th></th>\n",
       "      <th>rmse</th>\n",
       "      <th>learn_time</th>\n",
       "    </tr>\n",
       "  </thead>\n",
       "  <tbody>\n",
       "    <tr>\n",
       "      <th>catboostregressor</th>\n",
       "      <td>26.0</td>\n",
       "      <td>0.25</td>\n",
       "    </tr>\n",
       "    <tr>\n",
       "      <th>random forest regressor</th>\n",
       "      <td>27.0</td>\n",
       "      <td>0.78</td>\n",
       "    </tr>\n",
       "    <tr>\n",
       "      <th>light_GBM</th>\n",
       "      <td>27.0</td>\n",
       "      <td>9.20</td>\n",
       "    </tr>\n",
       "    <tr>\n",
       "      <th>dicision tree</th>\n",
       "      <td>31.0</td>\n",
       "      <td>0.12</td>\n",
       "    </tr>\n",
       "    <tr>\n",
       "      <th>linear regression</th>\n",
       "      <td>34.0</td>\n",
       "      <td>0.00</td>\n",
       "    </tr>\n",
       "  </tbody>\n",
       "</table>\n",
       "</div>"
      ],
      "text/plain": [
       "                         rmse  learn_time\n",
       "catboostregressor        26.0        0.25\n",
       "random forest regressor  27.0        0.78\n",
       "light_GBM                27.0        9.20\n",
       "dicision tree            31.0        0.12\n",
       "linear regression        34.0        0.00"
      ]
     },
     "execution_count": 27,
     "metadata": {},
     "output_type": "execute_result"
    }
   ],
   "source": [
    "model_name = ['linear regression', \n",
    "              'dicision tree', \n",
    "              'random forest regressor', \n",
    "              'light_GBM',\n",
    "              'catboostregressor']\n",
    "model_rmse = [lr_rmse, dtr_rmse, rf_rmse, lgbd_rmse, cat_rmse]\n",
    "model_ltime = [lr_time, dtr_time, rf_time, lgbd_time, cat_time]\n",
    "learning_results_df = pd.DataFrame(index=model_name, data={'rmse' : model_rmse, 'learn_time' : model_ltime})\n",
    "learning_results_df.sort_values(by='rmse')"
   ]
  },
  {
   "cell_type": "markdown",
   "metadata": {},
   "source": [
    "**Выводы к разделу:**\n",
    "\n",
    "По результатам, наилучшей моделью является Catboostregressor."
   ]
  },
  {
   "cell_type": "markdown",
   "metadata": {},
   "source": [
    "## Тестирование"
   ]
  },
  {
   "cell_type": "markdown",
   "metadata": {},
   "source": [
    "### Обучение лучшей модели"
   ]
  },
  {
   "cell_type": "code",
   "execution_count": 28,
   "metadata": {},
   "outputs": [
    {
     "name": "stdout",
     "output_type": "stream",
     "text": [
      "Catboostregressor, Test subset RMSE: 43.0\n"
     ]
    }
   ],
   "source": [
    "cat_pred = model_cat.predict(X_test)\n",
    "cat_test_rmse = mean_squared_error(y_test, cat_pred, squared=False)\n",
    "print('Catboostregressor, Test subset RMSE:', np.round(cat_test_rmse, 0))"
   ]
  },
  {
   "cell_type": "markdown",
   "metadata": {},
   "source": [
    "### Сравнение с константной моделью: DummyRegressor"
   ]
  },
  {
   "cell_type": "code",
   "execution_count": 29,
   "metadata": {},
   "outputs": [
    {
     "name": "stdout",
     "output_type": "stream",
     "text": [
      "Dummy regressor, Test subset RMSE: 85.0\n"
     ]
    }
   ],
   "source": [
    "model_dr = DummyRegressor()\n",
    "model_dr.fit(X_tr, y_tr)\n",
    "dumy_pred = model_dr.predict(X_test)\n",
    "dumy_test_rmse = mean_squared_error(y_test, dumy_pred, squared=False)\n",
    "print('Dummy regressor, Test subset RMSE:', np.round(dumy_test_rmse, 0))"
   ]
  },
  {
   "cell_type": "markdown",
   "metadata": {},
   "source": [
    "Модель Catboostregressor продемонстрировала удовлетварительный результат на тестовой выборке\n",
    "RMSE = 43"
   ]
  },
  {
   "cell_type": "markdown",
   "metadata": {},
   "source": [
    "### Визуализация результатов"
   ]
  },
  {
   "cell_type": "code",
   "execution_count": 30,
   "metadata": {},
   "outputs": [
    {
     "data": {
      "image/png": "[encoded data removed]",
      "text/plain": [
       "<Figure size 720x360 with 1 Axes>"
      ]
     },
     "metadata": {
      "needs_background": "light"
     },
     "output_type": "display_data"
    }
   ],
   "source": [
    "df_result = pd.DataFrame(y_test)\n",
    "df_result['pred'] = np.round(cat_pred, 0)\n",
    "df_result.columns = ['true', 'pred']\n",
    "df_result.resample('1D').sum().plot(figsize=(10, 5), grid=True)\n",
    "plt.title('True/pred values vizalization', fontsize=14)\n",
    "plt.ylabel('count')\n",
    "plt.show()"
   ]
  },
  {
   "cell_type": "markdown",
   "metadata": {},
   "source": [
    "**Выводы к разделу:**\n",
    "\n",
    "По графику видно, что модель недооценивает значения, это можно было бы скорректировать при помощи весов. Сейчас модель удовлетворяет требованиям задания."
   ]
  },
  {
   "cell_type": "markdown",
   "metadata": {},
   "source": [
    "## Вывод"
   ]
  },
  {
   "cell_type": "markdown",
   "metadata": {},
   "source": [
    "- Данные представленны за период с 1 марта 2018 года по 31 августа 2018 года с итервалом - 10 мин и расположены в хронологическом порядке.\n",
    "\n",
    "- Тренд за представленный период: увеличение спроса на такси с марта по конец августа. Так в марте количество заказов такси равно примерно 700-800 в сутки, тогда как в августе количество заказов становится больше в 5 раз и равняется 3500-3700.\n",
    "\n",
    "- Меньше всего такси в аэропорт заказывают по воскресеньям и вторникам, больше всего по понедельникам и пятницам.\n",
    "\n",
    "- По понедельникам пик заказов приходится на 2 часа ночи.\n",
    "\n",
    "- Средние показатели:\n",
    "\n",
    "Минимальное количество - 0 заказов;\n",
    "\n",
    "Среднее количество - 14 заказов;\n",
    "\n",
    "Максимальное количество - 119 заказов;\n",
    "\n",
    "- Количество заказов такси в аэропорт зависит от времени года, дня недели и времени суток.\n",
    "\n",
    "- Было обучено 5 видов моделей с различным набором гиперпараметров:\n",
    "\n",
    "random forest regressor\n",
    "\n",
    "light GBM\n",
    "\n",
    "catboostregressor\n",
    "\n",
    "dicision tree\n",
    "\n",
    "linear regression\n",
    "\n",
    "- Для оценки качества моделей использовалась метрика RMSE (root mean squared error).\n",
    "\n",
    "- Оценивалось время обучения модели. Наилучшей моделью оказалась - Catboostregressor\n",
    "\n",
    "- RMSE (test dataset) = 43;\n",
    "\n",
    "- Время обучения: примерно 0.51 мин;\n",
    "\n",
    "- Визуализация полученных предсказаний и истинных значений показала, что модель недооценивает значения, т.е. ее можно усовершенствовать, например, за счет повышающего коэффициента. Текущая модель удовлетворяет требованиям задания."
   ]
  },
  {
   "cell_type": "markdown",
   "metadata": {},
   "source": [
    "## Чек-лист проверки"
   ]
  },
  {
   "cell_type": "markdown",
   "metadata": {},
   "source": [
    "- [x]  Jupyter Notebook открыт\n",
    "- [x]  Весь код выполняется без ошибок\n",
    "- [x]  Ячейки с кодом расположены в порядке исполнения\n",
    "- [x]  Данные загружены и подготовлены\n",
    "- [x]  Данные проанализированы\n",
    "- [x]  Модель обучена, гиперпараметры подобраны\n",
    "- [x]  Качество моделей проверено, выводы сделаны\n",
    "- [x]  Значение *RMSE* на тестовой выборке не больше 48"
   ]
  }
 ],
 "metadata": {
  "ExecuteTimeLog": [
   {
    "duration": 8248,
    "start_time": "2025-04-12T13:46:18.530Z"
   },
   {
    "duration": 1588,
    "start_time": "2025-04-12T13:47:06.563Z"
   },
   {
    "duration": 128,
    "start_time": "2025-04-12T13:48:07.865Z"
   },
   {
    "duration": 58,
    "start_time": "2025-04-12T13:49:20.978Z"
   },
   {
    "duration": 13,
    "start_time": "2025-04-12T13:49:23.837Z"
   },
   {
    "duration": 6,
    "start_time": "2025-04-12T13:49:46.746Z"
   },
   {
    "duration": 12,
    "start_time": "2025-04-12T13:50:29.328Z"
   },
   {
    "duration": 6,
    "start_time": "2025-04-12T13:51:05.095Z"
   },
   {
    "duration": 9,
    "start_time": "2025-04-12T13:56:58.511Z"
   },
   {
    "duration": 13,
    "start_time": "2025-04-12T14:59:00.703Z"
   },
   {
    "duration": 853,
    "start_time": "2025-04-12T15:01:02.392Z"
   },
   {
    "duration": 801,
    "start_time": "2025-04-12T15:02:12.037Z"
   },
   {
    "duration": 249,
    "start_time": "2025-04-12T15:10:28.174Z"
   },
   {
    "duration": 611,
    "start_time": "2025-04-12T15:13:03.427Z"
   },
   {
    "duration": 560,
    "start_time": "2025-04-12T15:14:24.026Z"
   },
   {
    "duration": 13,
    "start_time": "2025-04-12T15:39:20.468Z"
   },
   {
    "duration": 13,
    "start_time": "2025-04-12T15:40:00.471Z"
   },
   {
    "duration": 8,
    "start_time": "2025-04-12T15:40:55.784Z"
   },
   {
    "duration": 17,
    "start_time": "2025-04-12T15:41:08.816Z"
   },
   {
    "duration": 8,
    "start_time": "2025-04-12T17:56:14.306Z"
   },
   {
    "duration": 6,
    "start_time": "2025-04-12T17:57:15.680Z"
   },
   {
    "duration": 5,
    "start_time": "2025-04-12T17:58:34.463Z"
   },
   {
    "duration": 10,
    "start_time": "2025-04-12T17:59:03.172Z"
   },
   {
    "duration": 110,
    "start_time": "2025-04-12T18:00:14.693Z"
   },
   {
    "duration": 15,
    "start_time": "2025-04-12T18:01:04.057Z"
   },
   {
    "duration": 5,
    "start_time": "2025-04-12T18:01:28.404Z"
   },
   {
    "duration": 9234,
    "start_time": "2025-04-12T18:02:29.251Z"
   },
   {
    "duration": 54652,
    "start_time": "2025-04-12T18:03:31.122Z"
   },
   {
    "duration": 675122,
    "start_time": "2025-04-12T18:05:22.401Z"
   },
   {
    "duration": 17779,
    "start_time": "2025-04-12T18:17:17.873Z"
   },
   {
    "duration": 11,
    "start_time": "2025-04-12T18:18:58.778Z"
   },
   {
    "duration": 12,
    "start_time": "2025-04-12T18:19:58.989Z"
   },
   {
    "duration": 9,
    "start_time": "2025-04-12T18:21:45.034Z"
   },
   {
    "duration": 6,
    "start_time": "2025-04-12T18:23:11.278Z"
   },
   {
    "duration": 271,
    "start_time": "2025-04-12T18:25:04.929Z"
   },
   {
    "duration": 2766,
    "start_time": "2025-04-13T04:34:16.032Z"
   },
   {
    "duration": 79,
    "start_time": "2025-04-13T04:34:18.801Z"
   },
   {
    "duration": 12,
    "start_time": "2025-04-13T04:34:18.881Z"
   },
   {
    "duration": 6,
    "start_time": "2025-04-13T04:34:18.894Z"
   },
   {
    "duration": 13,
    "start_time": "2025-04-13T04:34:23.300Z"
   },
   {
    "duration": 5,
    "start_time": "2025-04-13T04:34:23.550Z"
   },
   {
    "duration": 6,
    "start_time": "2025-04-13T04:34:25.117Z"
   },
   {
    "duration": 8313,
    "start_time": "2025-04-13T04:43:50.022Z"
   },
   {
    "duration": 6,
    "start_time": "2025-04-13T04:43:58.337Z"
   },
   {
    "duration": 45,
    "start_time": "2025-04-13T04:43:58.345Z"
   },
   {
    "duration": 11,
    "start_time": "2025-04-13T04:43:58.391Z"
   },
   {
    "duration": 7,
    "start_time": "2025-04-13T04:43:58.405Z"
   },
   {
    "duration": 16,
    "start_time": "2025-04-13T04:43:58.414Z"
   },
   {
    "duration": 5,
    "start_time": "2025-04-13T04:43:58.432Z"
   },
   {
    "duration": 41,
    "start_time": "2025-04-13T04:43:58.439Z"
   },
   {
    "duration": 22,
    "start_time": "2025-04-13T04:43:58.482Z"
   },
   {
    "duration": 804,
    "start_time": "2025-04-13T04:43:58.506Z"
   },
   {
    "duration": 305,
    "start_time": "2025-04-13T04:43:59.311Z"
   },
   {
    "duration": 591,
    "start_time": "2025-04-13T04:43:59.618Z"
   },
   {
    "duration": 578,
    "start_time": "2025-04-13T04:44:00.210Z"
   },
   {
    "duration": 18,
    "start_time": "2025-04-13T04:44:00.791Z"
   },
   {
    "duration": 19,
    "start_time": "2025-04-13T04:44:00.810Z"
   },
   {
    "duration": 17,
    "start_time": "2025-04-13T04:44:00.830Z"
   },
   {
    "duration": 26,
    "start_time": "2025-04-13T04:44:00.849Z"
   },
   {
    "duration": 33,
    "start_time": "2025-04-13T04:44:00.877Z"
   },
   {
    "duration": 24,
    "start_time": "2025-04-13T04:44:00.912Z"
   },
   {
    "duration": 116,
    "start_time": "2025-04-13T04:44:00.938Z"
   },
   {
    "duration": 241,
    "start_time": "2025-04-13T04:44:01.056Z"
   },
   {
    "duration": 0,
    "start_time": "2025-04-13T04:44:01.298Z"
   },
   {
    "duration": 7,
    "start_time": "2025-04-13T04:45:46.950Z"
   },
   {
    "duration": 10,
    "start_time": "2025-04-13T04:48:07.717Z"
   },
   {
    "duration": 10,
    "start_time": "2025-04-13T04:49:08.565Z"
   },
   {
    "duration": 0,
    "start_time": "2025-04-13T04:49:08.577Z"
   },
   {
    "duration": 0,
    "start_time": "2025-04-13T04:49:08.578Z"
   },
   {
    "duration": 0,
    "start_time": "2025-04-13T04:49:08.579Z"
   },
   {
    "duration": 0,
    "start_time": "2025-04-13T04:49:08.580Z"
   },
   {
    "duration": 0,
    "start_time": "2025-04-13T04:49:08.582Z"
   },
   {
    "duration": 0,
    "start_time": "2025-04-13T04:49:08.583Z"
   },
   {
    "duration": 0,
    "start_time": "2025-04-13T04:49:08.584Z"
   },
   {
    "duration": 0,
    "start_time": "2025-04-13T04:49:08.586Z"
   },
   {
    "duration": 6457,
    "start_time": "2025-04-13T16:07:08.671Z"
   },
   {
    "duration": 1351,
    "start_time": "2025-04-13T16:07:15.130Z"
   },
   {
    "duration": 145,
    "start_time": "2025-04-13T16:07:16.482Z"
   },
   {
    "duration": 9,
    "start_time": "2025-04-13T16:07:16.629Z"
   },
   {
    "duration": 37,
    "start_time": "2025-04-13T16:07:16.639Z"
   },
   {
    "duration": 38,
    "start_time": "2025-04-13T16:07:16.678Z"
   },
   {
    "duration": 20,
    "start_time": "2025-04-13T16:07:16.718Z"
   },
   {
    "duration": 26,
    "start_time": "2025-04-13T16:07:16.740Z"
   },
   {
    "duration": 8,
    "start_time": "2025-04-13T16:07:16.768Z"
   },
   {
    "duration": 723,
    "start_time": "2025-04-13T16:07:16.779Z"
   },
   {
    "duration": 173,
    "start_time": "2025-04-13T16:07:17.504Z"
   },
   {
    "duration": 606,
    "start_time": "2025-04-13T16:07:17.678Z"
   },
   {
    "duration": 496,
    "start_time": "2025-04-13T16:07:18.286Z"
   },
   {
    "duration": 12,
    "start_time": "2025-04-13T16:07:18.784Z"
   },
   {
    "duration": 19,
    "start_time": "2025-04-13T16:07:18.797Z"
   },
   {
    "duration": 7,
    "start_time": "2025-04-13T16:07:18.818Z"
   },
   {
    "duration": 23,
    "start_time": "2025-04-13T16:07:18.826Z"
   },
   {
    "duration": 15,
    "start_time": "2025-04-13T16:07:18.851Z"
   },
   {
    "duration": 6,
    "start_time": "2025-04-13T16:07:18.867Z"
   },
   {
    "duration": 7,
    "start_time": "2025-04-13T16:07:18.874Z"
   },
   {
    "duration": 8,
    "start_time": "2025-04-13T16:07:18.882Z"
   },
   {
    "duration": 100,
    "start_time": "2025-04-13T16:07:18.892Z"
   },
   {
    "duration": 7519,
    "start_time": "2025-04-13T16:07:18.994Z"
   },
   {
    "duration": 47283,
    "start_time": "2025-04-13T16:07:26.514Z"
   },
   {
    "duration": 6336,
    "start_time": "2025-04-13T16:08:13.798Z"
   },
   {
    "duration": 0,
    "start_time": "2025-04-13T16:08:20.136Z"
   },
   {
    "duration": 0,
    "start_time": "2025-04-13T16:08:20.137Z"
   },
   {
    "duration": 1,
    "start_time": "2025-04-13T16:08:20.137Z"
   },
   {
    "duration": 0,
    "start_time": "2025-04-13T16:08:20.138Z"
   },
   {
    "duration": 0,
    "start_time": "2025-04-13T16:08:20.139Z"
   },
   {
    "duration": 2221,
    "start_time": "2025-04-13T16:10:22.729Z"
   },
   {
    "duration": 1209,
    "start_time": "2025-04-13T16:10:24.953Z"
   },
   {
    "duration": 37,
    "start_time": "2025-04-13T16:10:26.163Z"
   },
   {
    "duration": 10,
    "start_time": "2025-04-13T16:10:26.202Z"
   },
   {
    "duration": 48,
    "start_time": "2025-04-13T16:10:26.214Z"
   },
   {
    "duration": 12,
    "start_time": "2025-04-13T16:10:26.263Z"
   },
   {
    "duration": 5,
    "start_time": "2025-04-13T16:10:26.277Z"
   },
   {
    "duration": 5,
    "start_time": "2025-04-13T16:10:26.283Z"
   },
   {
    "duration": 8,
    "start_time": "2025-04-13T16:10:26.290Z"
   },
   {
    "duration": 682,
    "start_time": "2025-04-13T16:10:26.301Z"
   },
   {
    "duration": 174,
    "start_time": "2025-04-13T16:10:26.984Z"
   },
   {
    "duration": 593,
    "start_time": "2025-04-13T16:10:27.162Z"
   },
   {
    "duration": 532,
    "start_time": "2025-04-13T16:10:27.756Z"
   },
   {
    "duration": 11,
    "start_time": "2025-04-13T16:10:28.290Z"
   },
   {
    "duration": 10,
    "start_time": "2025-04-13T16:10:28.303Z"
   },
   {
    "duration": 19,
    "start_time": "2025-04-13T16:10:28.314Z"
   },
   {
    "duration": 15,
    "start_time": "2025-04-13T16:10:28.335Z"
   },
   {
    "duration": 82,
    "start_time": "2025-04-13T16:10:28.351Z"
   },
   {
    "duration": 80,
    "start_time": "2025-04-13T16:10:28.434Z"
   },
   {
    "duration": 5,
    "start_time": "2025-04-13T16:10:28.516Z"
   },
   {
    "duration": 9,
    "start_time": "2025-04-13T16:10:28.522Z"
   },
   {
    "duration": 88,
    "start_time": "2025-04-13T16:10:28.532Z"
   },
   {
    "duration": 7488,
    "start_time": "2025-04-13T16:10:28.621Z"
   },
   {
    "duration": 46983,
    "start_time": "2025-04-13T16:10:36.110Z"
   },
   {
    "duration": 551877,
    "start_time": "2025-04-13T16:11:23.095Z"
   },
   {
    "duration": 15226,
    "start_time": "2025-04-13T16:20:34.974Z"
   },
   {
    "duration": 10,
    "start_time": "2025-04-13T16:20:50.202Z"
   },
   {
    "duration": 14,
    "start_time": "2025-04-13T16:20:50.215Z"
   },
   {
    "duration": 5,
    "start_time": "2025-04-13T16:20:50.230Z"
   },
   {
    "duration": 281,
    "start_time": "2025-04-13T16:20:50.237Z"
   },
   {
    "duration": 68,
    "start_time": "2025-04-13T16:33:36.767Z"
   }
  ],
  "kernelspec": {
   "display_name": "Python 3 (ipykernel)",
   "language": "python",
   "name": "python3"
  },
  "language_info": {
   "codemirror_mode": {
    "name": "ipython",
    "version": 3
   },
   "file_extension": ".py",
   "mimetype": "text/x-python",
   "name": "python",
   "nbconvert_exporter": "python",
   "pygments_lexer": "ipython3",
   "version": "3.11.5"
  },
  "toc": {
   "base_numbering": 1,
   "nav_menu": {},
   "number_sections": true,
   "sideBar": true,
   "skip_h1_title": true,
   "title_cell": "Содержание",
   "title_sidebar": "Contents",
   "toc_cell": true,
   "toc_position": {
    "height": "calc(100% - 180px)",
    "left": "10px",
    "top": "150px",
    "width": "304.15px"
   },
   "toc_section_display": true,
   "toc_window_display": true
  }
 },
 "nbformat": 4,
 "nbformat_minor": 2
}
